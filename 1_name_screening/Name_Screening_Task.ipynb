{
 "cells": [
  {
   "cell_type": "markdown",
   "metadata": {},
   "source": [
    "# Name Screening\n",
    "## Detect 50 Bad actors in our customer base using public data sources\n",
    "**Task**: Find as many bad actors as possible using NLP techniques to match customer names with watchlist and other relevant information given."
   ]
  },
  {
   "cell_type": "code",
   "execution_count": 1,
   "metadata": {},
   "outputs": [],
   "source": [
    "#!pip install fuzzywuzzy\n",
    "#!pip install python-Levenshtein\n",
    "# !pip install rapidfuzz\n",
    "\n",
    "import pandas as pd"
   ]
  },
  {
   "cell_type": "code",
   "execution_count": 2,
   "metadata": {},
   "outputs": [],
   "source": [
    "# load in relevant datasets\n",
    "df_kyc = pd.read_csv(\"UofT_nodes.csv\")\n",
    "df_bad = pd.read_csv(\"targets.simple.csv\", low_memory = False)\n",
    "\n",
    "# retain relevant columns\n",
    "df_kyc_cleaned = df_kyc[['NAME','BIRTH_DT']]\n",
    "df_bad_cleaned = df_bad[['name','birth_date']]"
   ]
  },
  {
   "cell_type": "code",
   "execution_count": 3,
   "metadata": {},
   "outputs": [],
   "source": [
    "# remove entried where name and birth_date are null for both datasets\n",
    "df_kyc_cleaned = df_kyc_cleaned[(~df_kyc_cleaned['NAME'].isnull())&\\\n",
    "                               (~df_kyc_cleaned['BIRTH_DT'].isnull())].reset_index(drop=True)\n",
    "df_bad_cleaned = df_bad_cleaned[(~df_bad_cleaned['name'].isnull())&\\\n",
    "                               (~df_bad_cleaned['birth_date'].isnull())].reset_index(drop=True)"
   ]
  },
  {
   "cell_type": "code",
   "execution_count": 4,
   "metadata": {},
   "outputs": [],
   "source": [
    "# standardize the format of the birth date columns\n",
    "df_kyc_cleaned['BIRTH_DT_CLEANED'] = pd.to_datetime(df_kyc_cleaned['BIRTH_DT'])\n",
    "df_bad_cleaned['birth_date_cleaned'] = pd.to_datetime(df_bad_cleaned['birth_date'].str.\\\n",
    "                                                      split(';', n=1, expand = True)[0],\n",
    "                                                      errors = 'coerce')"
   ]
  },
  {
   "cell_type": "code",
   "execution_count": 5,
   "metadata": {},
   "outputs": [
    {
     "data": {
      "text/plain": [
       "(164629, 3)"
      ]
     },
     "execution_count": 5,
     "metadata": {},
     "output_type": "execute_result"
    }
   ],
   "source": [
    "df_bad_cleaned.shape"
   ]
  },
  {
   "cell_type": "code",
   "execution_count": 6,
   "metadata": {},
   "outputs": [
    {
     "data": {
      "text/plain": [
       "(999340, 3)"
      ]
     },
     "execution_count": 6,
     "metadata": {},
     "output_type": "execute_result"
    }
   ],
   "source": [
    "df_kyc_cleaned.shape"
   ]
  },
  {
   "cell_type": "code",
   "execution_count": 8,
   "metadata": {},
   "outputs": [
    {
     "data": {
      "text/html": [
       "<div>\n",
       "<style scoped>\n",
       "    .dataframe tbody tr th:only-of-type {\n",
       "        vertical-align: middle;\n",
       "    }\n",
       "\n",
       "    .dataframe tbody tr th {\n",
       "        vertical-align: top;\n",
       "    }\n",
       "\n",
       "    .dataframe thead th {\n",
       "        text-align: right;\n",
       "    }\n",
       "</style>\n",
       "<table border=\"1\" class=\"dataframe\">\n",
       "  <thead>\n",
       "    <tr style=\"text-align: right;\">\n",
       "      <th></th>\n",
       "      <th>name</th>\n",
       "      <th>birth_date</th>\n",
       "      <th>birth_date_cleaned</th>\n",
       "    </tr>\n",
       "  </thead>\n",
       "  <tbody>\n",
       "    <tr>\n",
       "      <th>0</th>\n",
       "      <td>Kolyvanov Egor</td>\n",
       "      <td>1980-11-15</td>\n",
       "      <td>1980-11-15</td>\n",
       "    </tr>\n",
       "    <tr>\n",
       "      <th>1</th>\n",
       "      <td>Shipov Sergei Yurievich</td>\n",
       "      <td>1966-04-17</td>\n",
       "      <td>1966-04-17</td>\n",
       "    </tr>\n",
       "    <tr>\n",
       "      <th>2</th>\n",
       "      <td>Egorov Ivan Mikhailovich</td>\n",
       "      <td>1961-01-21</td>\n",
       "      <td>1961-01-21</td>\n",
       "    </tr>\n",
       "    <tr>\n",
       "      <th>3</th>\n",
       "      <td>Goreslavsky Alexey Sergeyevich</td>\n",
       "      <td>1977-07-13</td>\n",
       "      <td>1977-07-13</td>\n",
       "    </tr>\n",
       "    <tr>\n",
       "      <th>4</th>\n",
       "      <td>Samoilova Natalya Vladimirovna</td>\n",
       "      <td>1987-06-24</td>\n",
       "      <td>1987-06-24</td>\n",
       "    </tr>\n",
       "    <tr>\n",
       "      <th>...</th>\n",
       "      <td>...</td>\n",
       "      <td>...</td>\n",
       "      <td>...</td>\n",
       "    </tr>\n",
       "    <tr>\n",
       "      <th>164624</th>\n",
       "      <td>YUAN WEIDONG</td>\n",
       "      <td>1967-10-08</td>\n",
       "      <td>1967-10-08</td>\n",
       "    </tr>\n",
       "    <tr>\n",
       "      <th>164625</th>\n",
       "      <td>YURIY SERGEYEVICH ANDRIENKO</td>\n",
       "      <td>1988-05-30</td>\n",
       "      <td>1988-05-30</td>\n",
       "    </tr>\n",
       "    <tr>\n",
       "      <th>164626</th>\n",
       "      <td>YURY YEVGENYEVICH SAVIN</td>\n",
       "      <td>1975-01-12</td>\n",
       "      <td>1975-01-12</td>\n",
       "    </tr>\n",
       "    <tr>\n",
       "      <th>164627</th>\n",
       "      <td>ZHANG HAORAN</td>\n",
       "      <td>1985-06-15</td>\n",
       "      <td>1985-06-15</td>\n",
       "    </tr>\n",
       "    <tr>\n",
       "      <th>164628</th>\n",
       "      <td>ZHENG WANG</td>\n",
       "      <td>1985-01-25</td>\n",
       "      <td>1985-01-25</td>\n",
       "    </tr>\n",
       "  </tbody>\n",
       "</table>\n",
       "<p>164629 rows × 3 columns</p>\n",
       "</div>"
      ],
      "text/plain": [
       "                                  name  birth_date birth_date_cleaned\n",
       "0                       Kolyvanov Egor  1980-11-15         1980-11-15\n",
       "1              Shipov Sergei Yurievich  1966-04-17         1966-04-17\n",
       "2             Egorov Ivan Mikhailovich  1961-01-21         1961-01-21\n",
       "3       Goreslavsky Alexey Sergeyevich  1977-07-13         1977-07-13\n",
       "4       Samoilova Natalya Vladimirovna  1987-06-24         1987-06-24\n",
       "...                                ...         ...                ...\n",
       "164624                    YUAN WEIDONG  1967-10-08         1967-10-08\n",
       "164625     YURIY SERGEYEVICH ANDRIENKO  1988-05-30         1988-05-30\n",
       "164626         YURY YEVGENYEVICH SAVIN  1975-01-12         1975-01-12\n",
       "164627                    ZHANG HAORAN  1985-06-15         1985-06-15\n",
       "164628                      ZHENG WANG  1985-01-25         1985-01-25\n",
       "\n",
       "[164629 rows x 3 columns]"
      ]
     },
     "execution_count": 8,
     "metadata": {},
     "output_type": "execute_result"
    }
   ],
   "source": [
    "df_bad_cleaned"
   ]
  },
  {
   "cell_type": "markdown",
   "metadata": {},
   "source": [
    "## Method 1: FuzzyWuzzy"
   ]
  },
  {
   "cell_type": "code",
   "execution_count": null,
   "metadata": {},
   "outputs": [],
   "source": [
    "from fuzzywuzzy import fuzz\n",
    "\n",
    "df_bad_cust = pd.DataFrame(columns = ['index_kyc', 'name_kyc', 'index_bad', 'name_bad'])\n",
    "\n",
    "for ind_cust, row_cust in df_kyc_cleaned.iloc[1653:,:].iterrows():\n",
    "    if ind_cust % 100000 == 0:\n",
    "        print(f\"At customer index {ind_cust}\")\n",
    "        \n",
    "    for ind_bad, row_bad in df_bad_cleaned.iterrows():\n",
    "        if fuzz.token_sort_ratio(row_bad['name'], row_cust['NAME']) >= 80:\n",
    "            df_bad_cust = df_bad_cust.append({'index_kyc' : ind_cust,\n",
    "                                              'name_kyc' : row_cust['NAME'],\n",
    "                                              'index_bad' :  ind_bad,\n",
    "                                              'name_bad' : row_bad['name'],\n",
    "                                             },ignore_index = True)\n",
    "            print(f\"Customer Name: {row_cust['NAME']}, Bad Actor Name: {row_bad['name']}\")\n",
    "        else:\n",
    "            pass"
   ]
  },
  {
   "cell_type": "code",
   "execution_count": null,
   "metadata": {},
   "outputs": [],
   "source": [
    "row_cust"
   ]
  },
  {
   "cell_type": "code",
   "execution_count": null,
   "metadata": {},
   "outputs": [],
   "source": [
    "ind_cust"
   ]
  },
  {
   "cell_type": "markdown",
   "metadata": {},
   "source": [
    "## Method 2: RapidFuzz"
   ]
  },
  {
   "cell_type": "code",
   "execution_count": null,
   "metadata": {},
   "outputs": [],
   "source": [
    "import pandas as pd, numpy as np\n",
    "import rapidfuzz\n",
    "from rapidfuzz import process, utils\n",
    "import time\n",
    "\n",
    "processed_bad_actors = [utils.default_process(name) for name in df_bad_cleaned['name']]\n",
    "choices_dict = {idx: el for idx, el in enumerate(processed_bad_actors)}\n",
    "threshold = 90\n",
    "\n",
    "def find_match(x):\n",
    "    match = process.extractOne(x, choices_dict, scorer=rapidfuzz.fuzz.token_sort_ratio, score_cutoff = 90)\n",
    "    if match is None:\n",
    "        match = np.nan\n",
    "    else: \n",
    "        match = match if match[1]>threshold else np.nan\n",
    "    return match"
   ]
  },
  {
   "cell_type": "code",
   "execution_count": null,
   "metadata": {},
   "outputs": [],
   "source": [
    "df_kyc_rf = df_kyc_cleaned.copy()"
   ]
  },
  {
   "cell_type": "code",
   "execution_count": null,
   "metadata": {
    "scrolled": true
   },
   "outputs": [],
   "source": [
    "start = time.time()\n",
    "df_kyc_rf['match found','score','index_position'] = df_kyc_rf['NAME'].apply(find_match)\n",
    "end = time.tim()"
   ]
  },
  {
   "cell_type": "code",
   "execution_count": null,
   "metadata": {},
   "outputs": [],
   "source": [
    "df_kyc_rf"
   ]
  },
  {
   "cell_type": "markdown",
   "metadata": {},
   "source": [
    "## Method 3: Subsets\n",
    "- Group by Birth Dates, Search within Birth Date Groups"
   ]
  },
  {
   "cell_type": "code",
   "execution_count": 12,
   "metadata": {},
   "outputs": [
    {
     "data": {
      "text/plain": [
       "37384"
      ]
     },
     "execution_count": 12,
     "metadata": {},
     "output_type": "execute_result"
    }
   ],
   "source": [
    "len(df_kyc_cleaned['BIRTH_DT'].unique())"
   ]
  },
  {
   "cell_type": "code",
   "execution_count": 13,
   "metadata": {},
   "outputs": [
    {
     "data": {
      "text/plain": [
       "29838"
      ]
     },
     "execution_count": 13,
     "metadata": {},
     "output_type": "execute_result"
    }
   ],
   "source": [
    "len(df_bad_cleaned['birth_date'].unique())"
   ]
  },
  {
   "cell_type": "code",
   "execution_count": null,
   "metadata": {},
   "outputs": [],
   "source": []
  }
 ],
 "metadata": {
  "kernelspec": {
   "display_name": "Python 3",
   "language": "python",
   "name": "python3"
  },
  "language_info": {
   "codemirror_mode": {
    "name": "ipython",
    "version": 3
   },
   "file_extension": ".py",
   "mimetype": "text/x-python",
   "name": "python",
   "nbconvert_exporter": "python",
   "pygments_lexer": "ipython3",
   "version": "3.7.6"
  }
 },
 "nbformat": 4,
 "nbformat_minor": 4
}
