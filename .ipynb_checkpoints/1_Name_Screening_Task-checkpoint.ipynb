{
 "cells": [
  {
   "cell_type": "markdown",
   "metadata": {},
   "source": [
    "# Name Screening\n",
    "## Detect 50 Bad actors in our customer base using public data sources\n",
    "**Task**: Find as many bad actors as possible using NLP techniques to match customer names with watchlist and other relevant information given."
   ]
  },
  {
   "cell_type": "code",
   "execution_count": 2,
   "metadata": {},
   "outputs": [],
   "source": [
    "import pandas as pd\n",
    "import zipfile \n",
    "import warnings\n",
    "warnings.filterwarnings(\"ignore\")"
   ]
  },
  {
   "cell_type": "code",
   "execution_count": 3,
   "metadata": {},
   "outputs": [
    {
     "name": "stderr",
     "output_type": "stream",
     "text": [
      "/Users/JennaFu/opt/anaconda3/lib/python3.7/site-packages/pandas/core/frame.py:5047: SettingWithCopyWarning: \n",
      "A value is trying to be set on a copy of a slice from a DataFrame\n",
      "\n",
      "See the caveats in the documentation: https://pandas.pydata.org/pandas-docs/stable/user_guide/indexing.html#returning-a-view-versus-a-copy\n",
      "  errors=errors,\n"
     ]
    }
   ],
   "source": [
    "# unzip data\n",
    "with zipfile.ZipFile(\"data.zip\",\"r\") as zip_ref:\n",
    "    zip_ref.extractall()\n",
    "\n",
    "# load in relevant datasets\n",
    "df_kyc = pd.read_csv(\"UofT_nodes.csv\")\n",
    "df_bad = pd.read_csv(\"targets.simple.csv\", low_memory = False)\n",
    "\n",
    "# retain relevant columns\n",
    "df_kyc_cleaned = df_kyc[['NAME','BIRTH_DT']]\n",
    "df_bad_cleaned = df_bad[['name','birth_date']]\n",
    "\n",
    "df_kyc_cleaned.rename(columns={'NAME': 'name', 'BIRTH_DT': 'birth_date'}, inplace=True)"
   ]
  },
  {
   "cell_type": "code",
   "execution_count": 3,
   "metadata": {},
   "outputs": [],
   "source": [
    "# remove entried where name and birth_date are null for both datasets\n",
    "df_kyc_cleaned = df_kyc_cleaned[~df_kyc_cleaned['name'].isnull()].reset_index(drop=True)\n",
    "df_bad_cleaned = df_bad_cleaned[~df_bad_cleaned['name'].isnull()].reset_index(drop=True)"
   ]
  },
  {
   "cell_type": "code",
   "execution_count": 4,
   "metadata": {},
   "outputs": [],
   "source": [
    "# standardize the format of the birth date columns\n",
    "df_kyc_cleaned['birth_date_cleaned'] = pd.to_datetime(df_kyc_cleaned['birth_date'])\n",
    "df_bad_cleaned['birth_date_cleaned'] = pd.to_datetime(df_bad_cleaned['birth_date'].str.\\\n",
    "                                                      split(';', n=1, expand = True)[0],\n",
    "                                                      errors = 'coerce')"
   ]
  },
  {
   "cell_type": "code",
   "execution_count": 5,
   "metadata": {},
   "outputs": [
    {
     "data": {
      "text/plain": [
       "(262426, 3)"
      ]
     },
     "execution_count": 5,
     "metadata": {},
     "output_type": "execute_result"
    }
   ],
   "source": [
    "df_bad_cleaned.shape"
   ]
  },
  {
   "cell_type": "code",
   "execution_count": 6,
   "metadata": {},
   "outputs": [
    {
     "data": {
      "text/plain": [
       "(999340, 3)"
      ]
     },
     "execution_count": 6,
     "metadata": {},
     "output_type": "execute_result"
    }
   ],
   "source": [
    "df_kyc_cleaned.shape"
   ]
  },
  {
   "cell_type": "markdown",
   "metadata": {},
   "source": [
    "## Method 1: String Grouper (Name + Birth Date Matched)\n",
    "https://github.com/Bergvca/string_grouper"
   ]
  },
  {
   "cell_type": "code",
   "execution_count": 22,
   "metadata": {},
   "outputs": [],
   "source": [
    "import pandas as pd\n",
    "# update numpy if running into string_grouper import issue\n",
    "# !pip install --upgrade numpy\n",
    "from string_grouper import match_strings"
   ]
  },
  {
   "cell_type": "code",
   "execution_count": 23,
   "metadata": {},
   "outputs": [
    {
     "name": "stderr",
     "output_type": "stream",
     "text": [
      "/Users/JennaFu/opt/anaconda3/lib/python3.7/site-packages/string_grouper/string_grouper.py:492: UserWarning: An OverflowError occurred but is being handled.  The input data will be automatically split-up into smaller chunks which will then be processed one chunk at a time.  To prevent OverflowError, use the n_blocks parameter to split-up the data manually into small enough chunks.\n",
      "  warnings.warn(\"An OverflowError occurred but is being \"\n"
     ]
    },
    {
     "data": {
      "text/html": [
       "<div>\n",
       "<style scoped>\n",
       "    .dataframe tbody tr th:only-of-type {\n",
       "        vertical-align: middle;\n",
       "    }\n",
       "\n",
       "    .dataframe tbody tr th {\n",
       "        vertical-align: top;\n",
       "    }\n",
       "\n",
       "    .dataframe thead th {\n",
       "        text-align: right;\n",
       "    }\n",
       "</style>\n",
       "<table border=\"1\" class=\"dataframe\">\n",
       "  <thead>\n",
       "    <tr style=\"text-align: right;\">\n",
       "      <th></th>\n",
       "      <th>left_index</th>\n",
       "      <th>left_name</th>\n",
       "      <th>similarity</th>\n",
       "      <th>right_name</th>\n",
       "      <th>right_index</th>\n",
       "    </tr>\n",
       "  </thead>\n",
       "  <tbody>\n",
       "    <tr>\n",
       "      <th>0</th>\n",
       "      <td>41139</td>\n",
       "      <td>David Robinson</td>\n",
       "      <td>0.847678</td>\n",
       "      <td>David ROBINSONOVA</td>\n",
       "      <td>4257</td>\n",
       "    </tr>\n",
       "    <tr>\n",
       "      <th>1</th>\n",
       "      <td>315806</td>\n",
       "      <td>David Robinson</td>\n",
       "      <td>0.847678</td>\n",
       "      <td>David ROBINSONOVA</td>\n",
       "      <td>4257</td>\n",
       "    </tr>\n",
       "    <tr>\n",
       "      <th>2</th>\n",
       "      <td>823753</td>\n",
       "      <td>David Robinson</td>\n",
       "      <td>0.847678</td>\n",
       "      <td>David ROBINSONOVA</td>\n",
       "      <td>4257</td>\n",
       "    </tr>\n",
       "    <tr>\n",
       "      <th>3</th>\n",
       "      <td>398002</td>\n",
       "      <td>James Mason</td>\n",
       "      <td>1.000000</td>\n",
       "      <td>James Mason</td>\n",
       "      <td>4482</td>\n",
       "    </tr>\n",
       "    <tr>\n",
       "      <th>4</th>\n",
       "      <td>759344</td>\n",
       "      <td>Daniel Martin</td>\n",
       "      <td>1.000000</td>\n",
       "      <td>Daniel Martin</td>\n",
       "      <td>4898</td>\n",
       "    </tr>\n",
       "    <tr>\n",
       "      <th>...</th>\n",
       "      <td>...</td>\n",
       "      <td>...</td>\n",
       "      <td>...</td>\n",
       "      <td>...</td>\n",
       "      <td>...</td>\n",
       "    </tr>\n",
       "    <tr>\n",
       "      <th>9529</th>\n",
       "      <td>793756</td>\n",
       "      <td>Sullivan, George Ortiz</td>\n",
       "      <td>0.801988</td>\n",
       "      <td>George Ortiz</td>\n",
       "      <td>262195</td>\n",
       "    </tr>\n",
       "    <tr>\n",
       "      <th>9530</th>\n",
       "      <td>111485</td>\n",
       "      <td>Ana Gonzalez</td>\n",
       "      <td>0.808516</td>\n",
       "      <td>Deanna Gonzalez</td>\n",
       "      <td>262199</td>\n",
       "    </tr>\n",
       "    <tr>\n",
       "      <th>9531</th>\n",
       "      <td>274916</td>\n",
       "      <td>Jon Wyatt</td>\n",
       "      <td>0.802506</td>\n",
       "      <td>Brandon Wyatt</td>\n",
       "      <td>262206</td>\n",
       "    </tr>\n",
       "    <tr>\n",
       "      <th>9532</th>\n",
       "      <td>790486</td>\n",
       "      <td>Linda Callahan</td>\n",
       "      <td>0.850643</td>\n",
       "      <td>Amanda Callahan</td>\n",
       "      <td>262254</td>\n",
       "    </tr>\n",
       "    <tr>\n",
       "      <th>9533</th>\n",
       "      <td>340419</td>\n",
       "      <td>aCa, Michael Guy</td>\n",
       "      <td>0.858337</td>\n",
       "      <td>Michael Guy</td>\n",
       "      <td>262269</td>\n",
       "    </tr>\n",
       "  </tbody>\n",
       "</table>\n",
       "<p>9534 rows × 5 columns</p>\n",
       "</div>"
      ],
      "text/plain": [
       "      left_index               left_name  similarity         right_name  \\\n",
       "0          41139          David Robinson    0.847678  David ROBINSONOVA   \n",
       "1         315806          David Robinson    0.847678  David ROBINSONOVA   \n",
       "2         823753          David Robinson    0.847678  David ROBINSONOVA   \n",
       "3         398002             James Mason    1.000000        James Mason   \n",
       "4         759344           Daniel Martin    1.000000      Daniel Martin   \n",
       "...          ...                     ...         ...                ...   \n",
       "9529      793756  Sullivan, George Ortiz    0.801988       George Ortiz   \n",
       "9530      111485            Ana Gonzalez    0.808516    Deanna Gonzalez   \n",
       "9531      274916               Jon Wyatt    0.802506      Brandon Wyatt   \n",
       "9532      790486          Linda Callahan    0.850643    Amanda Callahan   \n",
       "9533      340419        aCa, Michael Guy    0.858337        Michael Guy   \n",
       "\n",
       "      right_index  \n",
       "0            4257  \n",
       "1            4257  \n",
       "2            4257  \n",
       "3            4482  \n",
       "4            4898  \n",
       "...           ...  \n",
       "9529       262195  \n",
       "9530       262199  \n",
       "9531       262206  \n",
       "9532       262254  \n",
       "9533       262269  \n",
       "\n",
       "[9534 rows x 5 columns]"
      ]
     },
     "execution_count": 23,
     "metadata": {},
     "output_type": "execute_result"
    }
   ],
   "source": [
    "matches = match_strings(df_kyc_cleaned['name'], df_bad_cleaned['name'], n_blocks = 'auto')\n",
    "matches"
   ]
  },
  {
   "cell_type": "code",
   "execution_count": null,
   "metadata": {},
   "outputs": [],
   "source": [
    "matches_cosine = matches.merge(df_kyc_cleaned.reset_index()[['index','birth_date_cleaned']], \n",
    "                            left_on='kyc_index',right_on='index',how='left')\\\n",
    "                      .drop(['index'],axis=1)\\\n",
    "                      .rename(columns={'birth_date_cleaned': 'kyc_bt'})\\\n",
    "                      .merge(df_bad_cleaned.reset_index()[['index','birth_date_cleaned']], \n",
    "                              left_on='bad_index',right_on='index',how='left')\\\n",
    "                      .drop(['index'],axis=1)\\\n",
    "                      .rename(columns={'birth_date_cleaned': 'bad_bt'})"
   ]
  },
  {
   "cell_type": "markdown",
   "metadata": {},
   "source": [
    "## Method 2: FuzzyWuzzy (Name + Birth Date Matched)"
   ]
  },
  {
   "cell_type": "code",
   "execution_count": 62,
   "metadata": {},
   "outputs": [],
   "source": [
    "matches_fuzzy = pd.read_csv(\"matches_fuzzy.csv\", index_col=0)"
   ]
  },
  {
   "cell_type": "markdown",
   "metadata": {},
   "source": [
    "## Compile Results (Name + Birth Date Matched)"
   ]
  },
  {
   "cell_type": "code",
   "execution_count": 85,
   "metadata": {},
   "outputs": [],
   "source": [
    "# Matched name and birth date from method 1\n",
    "df_cosine_manual_matches = matches_cosine[matches_cosine['kyc_bt'] == matches_cosine['bad_bt']]\n",
    "\n",
    "cosine_name_matches = df_cosine_manual_matches['kyc_name'].to_list()"
   ]
  },
  {
   "cell_type": "code",
   "execution_count": 86,
   "metadata": {},
   "outputs": [],
   "source": [
    "# Matched name and birth date from method 2 THEN 1\n",
    "cosine_fuzzy_matches = match_strings(matches_fuzzy['BadActor'], \n",
    "                                     matches_fuzzy['Found_Name'],\n",
    "                                     n_blocks = 'auto')['right_Found_Name'].tolist()"
   ]
  },
  {
   "cell_type": "code",
   "execution_count": 87,
   "metadata": {},
   "outputs": [],
   "source": [
    "# Matched name and birth date from method 2\n",
    "# manual search through entries where Score is above 75\n",
    "# matches_fuzzy[matches_fuzzy['Score'] >= 65]\n",
    "\n",
    "fuzzy_manual_matches = [715 ,203, 916, 820, 48, 661, 1108, 739, 338, 1189, \n",
    "                        725, 606, 988, 401, 580, 1025, 102, 825, 721, 242,\n",
    "                        740, 594, 741, 68, 909, 66, 1195, 317, 699, 291, 722,\n",
    "                        757, 53, 489, 833]\n",
    "\n",
    "df_fuzzy_manual_matches = matches_fuzzy.filter(items=fuzzy_manual_matches, axis=0)\n",
    "fuzzy_name_matches = df_fuzzy_manual_matches['Found_Name'].to_list()"
   ]
  },
  {
   "cell_type": "code",
   "execution_count": 90,
   "metadata": {
    "scrolled": false
   },
   "outputs": [],
   "source": [
    "# Merge the two lists\n",
    "df_kyc[df_kyc['NAME'].isin(fuzzy_name_matches + cosine_fuzzy_matches + cosine_name_matches)]\\\n",
    ".to_csv('badactor_foundin_kyc_bt_match.csv')"
   ]
  },
  {
   "cell_type": "code",
   "execution_count": null,
   "metadata": {},
   "outputs": [],
   "source": []
  }
 ],
 "metadata": {
  "kernelspec": {
   "display_name": "Python 3",
   "language": "python",
   "name": "python3"
  },
  "language_info": {
   "codemirror_mode": {
    "name": "ipython",
    "version": 3
   },
   "file_extension": ".py",
   "mimetype": "text/x-python",
   "name": "python",
   "nbconvert_exporter": "python",
   "pygments_lexer": "ipython3",
   "version": "3.7.6"
  }
 },
 "nbformat": 4,
 "nbformat_minor": 4
}
