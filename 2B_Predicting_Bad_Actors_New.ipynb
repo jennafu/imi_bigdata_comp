{
 "cells": [
  {
   "attachments": {},
   "cell_type": "markdown",
   "metadata": {},
   "source": [
    "# Task 2B - Find Likelihood to be Bad Actor"
   ]
  },
  {
   "attachments": {},
   "cell_type": "markdown",
   "metadata": {},
   "source": [
    "## Library and Pre-process"
   ]
  },
  {
   "cell_type": "code",
   "execution_count": 1,
   "metadata": {},
   "outputs": [],
   "source": [
    "import pandas as pd\n",
    "import numpy as np\n",
    "import altair as alt\n",
    "import matplotlib.pyplot as plt\n",
    "import seaborn as sns\n",
    "from sklearn.preprocessing import StandardScaler\n",
    "from sklearn.linear_model import LogisticRegression\n",
    "from sklearn.model_selection import StratifiedKFold\n",
    "from sklearn.metrics import accuracy_score, precision_score, recall_score, confusion_matrix"
   ]
  },
  {
   "cell_type": "code",
   "execution_count": 2,
   "metadata": {},
   "outputs": [],
   "source": [
    "# Read main dataset\n",
    "df = pd.read_csv('UofT_nodes.csv')\n",
    "df_bad_list = pd.read_csv('badactor_foundin_kyc_bt_match.csv')"
   ]
  },
  {
   "cell_type": "code",
   "execution_count": 3,
   "metadata": {},
   "outputs": [],
   "source": [
    "# Change all to categorial\n",
    "df['COUNTRY_RISK_INCOME'] = df['COUNTRY_RISK_INCOME'].astype('category').cat.codes\n",
    "df['COUNTRY_RISK_RESIDENCY'] = df['COUNTRY_RISK_RESIDENCY'].astype('category').cat.codes\n",
    "df['GENDER'] = df['GENDER'].astype('category').cat.codes\n",
    "\n",
    "df['RISK'] = df['RISK'].replace(['low'], 0)\n",
    "df['RISK'] = df['RISK'].replace(['medium'], 1)\n",
    "df['RISK'] = df['RISK'].replace(['high'], 2)"
   ]
  },
  {
   "cell_type": "code",
   "execution_count": 4,
   "metadata": {},
   "outputs": [
    {
     "name": "stdout",
     "output_type": "stream",
     "text": [
      "<class 'pandas.core.frame.DataFrame'>\n",
      "RangeIndex: 1000000 entries, 0 to 999999\n",
      "Data columns (total 22 columns):\n",
      " #   Column                  Non-Null Count    Dtype         \n",
      "---  ------                  --------------    -----         \n",
      " 0   BIRTH_DT                1000000 non-null  datetime64[ns]\n",
      " 1   CUST_ADD_DT             1000000 non-null  datetime64[ns]\n",
      " 2   OCPTN_NM                1000000 non-null  float64       \n",
      " 3   RES_CNTRY_CA            1000000 non-null  int64         \n",
      " 4   CNTRY_OF_INCOME_CA      1000000 non-null  int64         \n",
      " 5   PEP_FL                  1000000 non-null  float64       \n",
      " 6   CASH_SUM_IN             1000000 non-null  float64       \n",
      " 7   CASH_CNT_IN             1000000 non-null  float64       \n",
      " 8   CASH_SUM_OUT            1000000 non-null  float64       \n",
      " 9   CASH_CNT_OUT            1000000 non-null  float64       \n",
      " 10  WIRES_SUM_IN            1000000 non-null  float64       \n",
      " 11  WIRES_CNT_IN            1000000 non-null  float64       \n",
      " 12  WIRES_SUM_OUT           1000000 non-null  float64       \n",
      " 13  WIRES_CNT_OUT           1000000 non-null  float64       \n",
      " 14  COUNTRY_RISK_INCOME     1000000 non-null  int8          \n",
      " 15  COUNTRY_RISK_RESIDENCY  1000000 non-null  int8          \n",
      " 16  RISK                    1000000 non-null  int64         \n",
      " 17  NAME                    999340 non-null   object        \n",
      " 18  GENDER                  1000000 non-null  int8          \n",
      " 19  CUSTOMER_ID             1000000 non-null  int32         \n",
      " 20  BIRTH_TS                1000000 non-null  float64       \n",
      " 21  CUST_ADD_TS             1000000 non-null  float64       \n",
      "dtypes: datetime64[ns](2), float64(12), int32(1), int64(3), int8(3), object(1)\n",
      "memory usage: 144.0+ MB\n"
     ]
    }
   ],
   "source": [
    "# Convert Key(Customer ID) to int for join\n",
    "df.CUSTOMER_ID = df.CUSTOMER_ID.astype(float).astype(int)\n",
    "df_bad_list.CUSTOMER_ID = df_bad_list.CUSTOMER_ID.astype(float).astype(int)\n",
    "\n",
    "# Change all date to date format\n",
    "df.BIRTH_DT = pd.to_datetime(df.BIRTH_DT)\n",
    "df.CUST_ADD_DT = pd.to_datetime(df.CUST_ADD_DT)\n",
    "\n",
    "# Fill NaN with value different from the other\n",
    "df.CUST_ADD_DT.fillna(pd.Timestamp('1800-01-01'), inplace=True)\n",
    "df.OCPTN_NM.fillna(-1, inplace=True)\n",
    "\n",
    "# Convert all dates to Unix timestamps for modeling\n",
    "df['BIRTH_TS'] = df['BIRTH_DT'].apply(lambda x: x.timestamp())\n",
    "df['CUST_ADD_TS'] = df['CUST_ADD_DT'].apply(lambda x: x.timestamp())\n",
    "df.info()"
   ]
  },
  {
   "cell_type": "code",
   "execution_count": 5,
   "metadata": {},
   "outputs": [
    {
     "name": "stdout",
     "output_type": "stream",
     "text": [
      "<class 'pandas.core.frame.DataFrame'>\n",
      "RangeIndex: 45 entries, 0 to 44\n",
      "Data columns (total 21 columns):\n",
      " #   Column                  Non-Null Count  Dtype  \n",
      "---  ------                  --------------  -----  \n",
      " 0   Unnamed: 0              45 non-null     int64  \n",
      " 1   BIRTH_DT                45 non-null     object \n",
      " 2   CUST_ADD_DT             45 non-null     object \n",
      " 3   OCPTN_NM                45 non-null     float64\n",
      " 4   RES_CNTRY_CA            45 non-null     int64  \n",
      " 5   CNTRY_OF_INCOME_CA      45 non-null     int64  \n",
      " 6   PEP_FL                  45 non-null     float64\n",
      " 7   CASH_SUM_IN             45 non-null     float64\n",
      " 8   CASH_CNT_IN             45 non-null     float64\n",
      " 9   CASH_SUM_OUT            45 non-null     float64\n",
      " 10  CASH_CNT_OUT            45 non-null     float64\n",
      " 11  WIRES_SUM_IN            45 non-null     float64\n",
      " 12  WIRES_CNT_IN            45 non-null     float64\n",
      " 13  WIRES_SUM_OUT           45 non-null     float64\n",
      " 14  WIRES_CNT_OUT           45 non-null     float64\n",
      " 15  COUNTRY_RISK_INCOME     45 non-null     object \n",
      " 16  COUNTRY_RISK_RESIDENCY  45 non-null     object \n",
      " 17  RISK                    45 non-null     object \n",
      " 18  NAME                    45 non-null     object \n",
      " 19  GENDER                  45 non-null     object \n",
      " 20  CUSTOMER_ID             45 non-null     int32  \n",
      "dtypes: float64(10), int32(1), int64(3), object(7)\n",
      "memory usage: 7.3+ KB\n"
     ]
    }
   ],
   "source": [
    "df_bad_list.CUSTOMER_ID = df_bad_list.CUSTOMER_ID.astype(float).astype(int)\n",
    "df_bad_list.info()"
   ]
  },
  {
   "cell_type": "code",
   "execution_count": 6,
   "metadata": {},
   "outputs": [
    {
     "data": {
      "text/html": [
       "<div>\n",
       "<style scoped>\n",
       "    .dataframe tbody tr th:only-of-type {\n",
       "        vertical-align: middle;\n",
       "    }\n",
       "\n",
       "    .dataframe tbody tr th {\n",
       "        vertical-align: top;\n",
       "    }\n",
       "\n",
       "    .dataframe thead th {\n",
       "        text-align: right;\n",
       "    }\n",
       "</style>\n",
       "<table border=\"1\" class=\"dataframe\">\n",
       "  <thead>\n",
       "    <tr style=\"text-align: right;\">\n",
       "      <th></th>\n",
       "      <th>BIRTH_DT</th>\n",
       "      <th>CUST_ADD_DT</th>\n",
       "      <th>OCPTN_NM</th>\n",
       "      <th>RES_CNTRY_CA</th>\n",
       "      <th>CNTRY_OF_INCOME_CA</th>\n",
       "      <th>PEP_FL</th>\n",
       "      <th>CASH_SUM_IN</th>\n",
       "      <th>CASH_CNT_IN</th>\n",
       "      <th>CASH_SUM_OUT</th>\n",
       "      <th>CASH_CNT_OUT</th>\n",
       "      <th>...</th>\n",
       "      <th>WIRES_CNT_OUT</th>\n",
       "      <th>COUNTRY_RISK_INCOME</th>\n",
       "      <th>COUNTRY_RISK_RESIDENCY</th>\n",
       "      <th>RISK</th>\n",
       "      <th>NAME</th>\n",
       "      <th>GENDER</th>\n",
       "      <th>CUSTOMER_ID</th>\n",
       "      <th>BIRTH_TS</th>\n",
       "      <th>CUST_ADD_TS</th>\n",
       "      <th>BAD_STATUS</th>\n",
       "    </tr>\n",
       "  </thead>\n",
       "  <tbody>\n",
       "    <tr>\n",
       "      <th>0</th>\n",
       "      <td>1981-09-01</td>\n",
       "      <td>2007-07-05</td>\n",
       "      <td>89.0</td>\n",
       "      <td>1</td>\n",
       "      <td>1</td>\n",
       "      <td>0.0</td>\n",
       "      <td>2577.785</td>\n",
       "      <td>2.0</td>\n",
       "      <td>2851.663</td>\n",
       "      <td>7.0</td>\n",
       "      <td>...</td>\n",
       "      <td>35.0</td>\n",
       "      <td>1</td>\n",
       "      <td>1</td>\n",
       "      <td>0</td>\n",
       "      <td>Young, Marie Mildren Coleman</td>\n",
       "      <td>0</td>\n",
       "      <td>935382</td>\n",
       "      <td>368150400.0</td>\n",
       "      <td>1.183594e+09</td>\n",
       "      <td>False</td>\n",
       "    </tr>\n",
       "    <tr>\n",
       "      <th>1</th>\n",
       "      <td>1994-02-21</td>\n",
       "      <td>2019-05-19</td>\n",
       "      <td>89.0</td>\n",
       "      <td>1</td>\n",
       "      <td>1</td>\n",
       "      <td>0.0</td>\n",
       "      <td>3035.502</td>\n",
       "      <td>2.0</td>\n",
       "      <td>4805.997</td>\n",
       "      <td>15.0</td>\n",
       "      <td>...</td>\n",
       "      <td>152.0</td>\n",
       "      <td>1</td>\n",
       "      <td>1</td>\n",
       "      <td>0</td>\n",
       "      <td>Mark Stupar Lecy</td>\n",
       "      <td>1</td>\n",
       "      <td>2305</td>\n",
       "      <td>761788800.0</td>\n",
       "      <td>1.558224e+09</td>\n",
       "      <td>False</td>\n",
       "    </tr>\n",
       "    <tr>\n",
       "      <th>2</th>\n",
       "      <td>1962-11-16</td>\n",
       "      <td>2011-08-02</td>\n",
       "      <td>89.0</td>\n",
       "      <td>1</td>\n",
       "      <td>1</td>\n",
       "      <td>0.0</td>\n",
       "      <td>1617.571</td>\n",
       "      <td>1.0</td>\n",
       "      <td>3482.809</td>\n",
       "      <td>11.0</td>\n",
       "      <td>...</td>\n",
       "      <td>20.0</td>\n",
       "      <td>1</td>\n",
       "      <td>1</td>\n",
       "      <td>0</td>\n",
       "      <td>Dean Glasper Wendel Reeves</td>\n",
       "      <td>1</td>\n",
       "      <td>472403</td>\n",
       "      <td>-224899200.0</td>\n",
       "      <td>1.312243e+09</td>\n",
       "      <td>False</td>\n",
       "    </tr>\n",
       "    <tr>\n",
       "      <th>3</th>\n",
       "      <td>1998-06-20</td>\n",
       "      <td>2001-08-15</td>\n",
       "      <td>89.0</td>\n",
       "      <td>1</td>\n",
       "      <td>1</td>\n",
       "      <td>0.0</td>\n",
       "      <td>3587.042</td>\n",
       "      <td>5.0</td>\n",
       "      <td>1940.943</td>\n",
       "      <td>8.0</td>\n",
       "      <td>...</td>\n",
       "      <td>238.0</td>\n",
       "      <td>1</td>\n",
       "      <td>1</td>\n",
       "      <td>0</td>\n",
       "      <td>Hulsey, Linda Rauth</td>\n",
       "      <td>0</td>\n",
       "      <td>227994</td>\n",
       "      <td>898300800.0</td>\n",
       "      <td>9.978336e+08</td>\n",
       "      <td>False</td>\n",
       "    </tr>\n",
       "    <tr>\n",
       "      <th>4</th>\n",
       "      <td>1942-01-24</td>\n",
       "      <td>2012-10-28</td>\n",
       "      <td>89.0</td>\n",
       "      <td>1</td>\n",
       "      <td>1</td>\n",
       "      <td>0.0</td>\n",
       "      <td>1725.524</td>\n",
       "      <td>2.0</td>\n",
       "      <td>13197.169</td>\n",
       "      <td>43.0</td>\n",
       "      <td>...</td>\n",
       "      <td>180.0</td>\n",
       "      <td>1</td>\n",
       "      <td>1</td>\n",
       "      <td>0</td>\n",
       "      <td>Carolyn Washington Roberts</td>\n",
       "      <td>0</td>\n",
       "      <td>418265</td>\n",
       "      <td>-881625600.0</td>\n",
       "      <td>1.351382e+09</td>\n",
       "      <td>False</td>\n",
       "    </tr>\n",
       "  </tbody>\n",
       "</table>\n",
       "<p>5 rows × 23 columns</p>\n",
       "</div>"
      ],
      "text/plain": [
       "    BIRTH_DT CUST_ADD_DT  OCPTN_NM  RES_CNTRY_CA  CNTRY_OF_INCOME_CA  PEP_FL  \\\n",
       "0 1981-09-01  2007-07-05      89.0             1                   1     0.0   \n",
       "1 1994-02-21  2019-05-19      89.0             1                   1     0.0   \n",
       "2 1962-11-16  2011-08-02      89.0             1                   1     0.0   \n",
       "3 1998-06-20  2001-08-15      89.0             1                   1     0.0   \n",
       "4 1942-01-24  2012-10-28      89.0             1                   1     0.0   \n",
       "\n",
       "   CASH_SUM_IN  CASH_CNT_IN  CASH_SUM_OUT  CASH_CNT_OUT  ...  WIRES_CNT_OUT  \\\n",
       "0     2577.785          2.0      2851.663           7.0  ...           35.0   \n",
       "1     3035.502          2.0      4805.997          15.0  ...          152.0   \n",
       "2     1617.571          1.0      3482.809          11.0  ...           20.0   \n",
       "3     3587.042          5.0      1940.943           8.0  ...          238.0   \n",
       "4     1725.524          2.0     13197.169          43.0  ...          180.0   \n",
       "\n",
       "   COUNTRY_RISK_INCOME  COUNTRY_RISK_RESIDENCY  RISK  \\\n",
       "0                    1                       1     0   \n",
       "1                    1                       1     0   \n",
       "2                    1                       1     0   \n",
       "3                    1                       1     0   \n",
       "4                    1                       1     0   \n",
       "\n",
       "                           NAME  GENDER  CUSTOMER_ID     BIRTH_TS  \\\n",
       "0  Young, Marie Mildren Coleman       0       935382  368150400.0   \n",
       "1              Mark Stupar Lecy       1         2305  761788800.0   \n",
       "2    Dean Glasper Wendel Reeves       1       472403 -224899200.0   \n",
       "3           Hulsey, Linda Rauth       0       227994  898300800.0   \n",
       "4    Carolyn Washington Roberts       0       418265 -881625600.0   \n",
       "\n",
       "    CUST_ADD_TS  BAD_STATUS  \n",
       "0  1.183594e+09       False  \n",
       "1  1.558224e+09       False  \n",
       "2  1.312243e+09       False  \n",
       "3  9.978336e+08       False  \n",
       "4  1.351382e+09       False  \n",
       "\n",
       "[5 rows x 23 columns]"
      ]
     },
     "execution_count": 6,
     "metadata": {},
     "output_type": "execute_result"
    }
   ],
   "source": [
    "# Create bad actor label\n",
    "df_bad_list['BAD_STATUS'] = [True]*df_bad_list.shape[0] # Create True labels for real bad actors \n",
    "df = df.merge(df_bad_list[['BAD_STATUS', 'CUSTOMER_ID']], on='CUSTOMER_ID', how='left') # Join\n",
    "df.BAD_STATUS.fillna(False, inplace=True) # Fill the rest with False labels"
   ]
  },
  {
   "cell_type": "code",
   "execution_count": 7,
   "metadata": {},
   "outputs": [
    {
     "data": {
      "text/plain": [
       "True"
      ]
     },
     "execution_count": 7,
     "metadata": {},
     "output_type": "execute_result"
    }
   ],
   "source": [
    "# Check whether merged correctly\n",
    "set(df_bad_list.CUSTOMER_ID) == set(df[df.BAD_STATUS].CUSTOMER_ID)"
   ]
  },
  {
   "cell_type": "markdown",
   "metadata": {},
   "source": [
    "## Variable Selection"
   ]
  },
  {
   "cell_type": "code",
   "execution_count": 8,
   "metadata": {},
   "outputs": [],
   "source": [
    "# Set variable will be used for training\n",
    "column_feature = df.columns[2:16].to_list() + df.columns[20:22].to_list()"
   ]
  },
  {
   "cell_type": "code",
   "execution_count": 9,
   "metadata": {},
   "outputs": [
    {
     "data": {
      "text/plain": [
       "OCPTN_NM                  float64\n",
       "RES_CNTRY_CA                int64\n",
       "CNTRY_OF_INCOME_CA          int64\n",
       "PEP_FL                    float64\n",
       "CASH_SUM_IN               float64\n",
       "CASH_CNT_IN               float64\n",
       "CASH_SUM_OUT              float64\n",
       "CASH_CNT_OUT              float64\n",
       "WIRES_SUM_IN              float64\n",
       "WIRES_CNT_IN              float64\n",
       "WIRES_SUM_OUT             float64\n",
       "WIRES_CNT_OUT             float64\n",
       "COUNTRY_RISK_INCOME          int8\n",
       "COUNTRY_RISK_RESIDENCY       int8\n",
       "BIRTH_TS                  float64\n",
       "CUST_ADD_TS               float64\n",
       "dtype: object"
      ]
     },
     "execution_count": 9,
     "metadata": {},
     "output_type": "execute_result"
    }
   ],
   "source": [
    "df[column_feature].dtypes"
   ]
  },
  {
   "cell_type": "code",
   "execution_count": 10,
   "metadata": {},
   "outputs": [],
   "source": [
    "# Split\n",
    "X = df[column_feature]\n",
    "y = df.BAD_STATUS\n",
    "\n",
    "# Calculate the correlation between each feature and the target variable\n",
    "corr = X.corrwith(y)\n",
    "\n",
    "# Get the selected feature names\n",
    "k = 10\n",
    "indices = corr.abs().sort_values(ascending=False)[:k].index\n",
    "selected_features = X[indices].columns.tolist()"
   ]
  },
  {
   "cell_type": "code",
   "execution_count": 11,
   "metadata": {},
   "outputs": [
    {
     "data": {
      "text/plain": [
       "['COUNTRY_RISK_INCOME',\n",
       " 'CNTRY_OF_INCOME_CA',\n",
       " 'RES_CNTRY_CA',\n",
       " 'CASH_SUM_IN',\n",
       " 'COUNTRY_RISK_RESIDENCY',\n",
       " 'CASH_CNT_IN',\n",
       " 'WIRES_CNT_OUT',\n",
       " 'CASH_CNT_OUT',\n",
       " 'CASH_SUM_OUT',\n",
       " 'WIRES_SUM_OUT']"
      ]
     },
     "execution_count": 11,
     "metadata": {},
     "output_type": "execute_result"
    }
   ],
   "source": [
    "selected_features"
   ]
  },
  {
   "attachments": {},
   "cell_type": "markdown",
   "metadata": {},
   "source": [
    "## Modelling with Logistic Regression"
   ]
  },
  {
   "cell_type": "code",
   "execution_count": 12,
   "metadata": {},
   "outputs": [
    {
     "name": "stdout",
     "output_type": "stream",
     "text": [
      "Average accuracy: 0.9567309999999999\n",
      "Average precision: 0.9999101076987091\n",
      "Average recall: 0.9567309999999999\n"
     ]
    }
   ],
   "source": [
    "# Remove feature names\n",
    "X = X[selected_features].values\n",
    "\n",
    "# Create a StratifiedKFold object with 5 folds (Avoid imbalanced issue)\n",
    "skf = StratifiedKFold(n_splits=10, shuffle=True, random_state=7)\n",
    "scaler = StandardScaler()\n",
    "\n",
    "# Initialize an empty list to store the accuracy scores\n",
    "acc_scores = []\n",
    "prec_scores = []\n",
    "rec_scores = []\n",
    "\n",
    "for train_index, test_index in skf.split(X, y):\n",
    "    # Split into training and testing sets\n",
    "    X_train, X_test = X[train_index], X[test_index]\n",
    "    y_train, y_test = y[train_index], y[test_index]\n",
    "    \n",
    "    # Normalize the training and testing data\n",
    "    X_train_norm = scaler.fit_transform(X_train)\n",
    "    X_test_norm = scaler.transform(X_test)\n",
    "    \n",
    "    # Initialize a LogisticRegression classifier\n",
    "    lr = LogisticRegression(class_weight='balanced', random_state=7)\n",
    "    \n",
    "    # Train with the normalized training data\n",
    "    lr.fit(X_train_norm, y_train)\n",
    "    \n",
    "    # Evaluate the normalized testing data\n",
    "    y_pred = lr.predict(X_test)\n",
    "    accuracy = accuracy_score(y_test, y_pred)\n",
    "    precison = precision_score(y_test, y_pred, average='weighted')\n",
    "    recall = recall_score(y_test, y_pred, average='weighted')\n",
    "\n",
    "    acc_scores.append(accuracy)\n",
    "    prec_scores.append(precison)\n",
    "    rec_scores.append(recall)\n",
    "\n",
    "print('Average accuracy:', np.mean(acc_scores))\n",
    "print('Average precision:', np.mean(prec_scores))\n",
    "print('Average recall:', np.mean(rec_scores))"
   ]
  },
  {
   "cell_type": "code",
   "execution_count": 13,
   "metadata": {},
   "outputs": [],
   "source": [
    "# Get the whole X back\n",
    "X_all_norm = scaler.transform(df[selected_features].values)\n",
    "bad_score = lr.predict_proba(X_all_norm) # This is the final likelihood to be a bad actor"
   ]
  },
  {
   "cell_type": "code",
   "execution_count": 37,
   "metadata": {},
   "outputs": [
    {
     "data": {
      "text/plain": [
       "1000000"
      ]
     },
     "execution_count": 37,
     "metadata": {},
     "output_type": "execute_result"
    }
   ],
   "source": [
    "# This is the final likelihood to be a bad actor\n",
    "bad_score"
   ]
  },
  {
   "cell_type": "markdown",
   "metadata": {},
   "source": [
    "## Visualization"
   ]
  },
  {
   "cell_type": "code",
   "execution_count": 28,
   "metadata": {},
   "outputs": [
    {
     "data": {
      "text/html": [
       "<div>\n",
       "<style scoped>\n",
       "    .dataframe tbody tr th:only-of-type {\n",
       "        vertical-align: middle;\n",
       "    }\n",
       "\n",
       "    .dataframe tbody tr th {\n",
       "        vertical-align: top;\n",
       "    }\n",
       "\n",
       "    .dataframe thead th {\n",
       "        text-align: right;\n",
       "    }\n",
       "</style>\n",
       "<table border=\"1\" class=\"dataframe\">\n",
       "  <thead>\n",
       "    <tr style=\"text-align: right;\">\n",
       "      <th></th>\n",
       "      <th>Bad Actor</th>\n",
       "      <th>Count</th>\n",
       "      <th>Percent</th>\n",
       "    </tr>\n",
       "  </thead>\n",
       "  <tbody>\n",
       "    <tr>\n",
       "      <th>0</th>\n",
       "      <td>False</td>\n",
       "      <td>999955</td>\n",
       "      <td>0.999955</td>\n",
       "    </tr>\n",
       "    <tr>\n",
       "      <th>1</th>\n",
       "      <td>True</td>\n",
       "      <td>45</td>\n",
       "      <td>0.000045</td>\n",
       "    </tr>\n",
       "  </tbody>\n",
       "</table>\n",
       "</div>"
      ],
      "text/plain": [
       "   Bad Actor   Count   Percent\n",
       "0      False  999955  0.999955\n",
       "1       True      45  0.000045"
      ]
     },
     "execution_count": 28,
     "metadata": {},
     "output_type": "execute_result"
    }
   ],
   "source": [
    "# Groupby the bad actor label\n",
    "bad_count = df.groupby('BAD_STATUS').count().BIRTH_DT.reset_index()\n",
    "bad_count.rename(columns={'BAD_STATUS':'Bad Actor', 'BIRTH_DT':'Count'}, inplace=True)\n",
    "bad_count['Percent'] = bad_count.Count/sum(bad_count.Count)\n",
    "bad_count"
   ]
  },
  {
   "cell_type": "code",
   "execution_count": 33,
   "metadata": {},
   "outputs": [
    {
     "data": {
      "text/html": [
       "\n",
       "<div id=\"altair-viz-3d7aeec508e1417fa1eb327408b388b1\"></div>\n",
       "<script type=\"text/javascript\">\n",
       "  var VEGA_DEBUG = (typeof VEGA_DEBUG == \"undefined\") ? {} : VEGA_DEBUG;\n",
       "  (function(spec, embedOpt){\n",
       "    let outputDiv = document.currentScript.previousElementSibling;\n",
       "    if (outputDiv.id !== \"altair-viz-3d7aeec508e1417fa1eb327408b388b1\") {\n",
       "      outputDiv = document.getElementById(\"altair-viz-3d7aeec508e1417fa1eb327408b388b1\");\n",
       "    }\n",
       "    const paths = {\n",
       "      \"vega\": \"https://cdn.jsdelivr.net/npm//vega@5?noext\",\n",
       "      \"vega-lib\": \"https://cdn.jsdelivr.net/npm//vega-lib?noext\",\n",
       "      \"vega-lite\": \"https://cdn.jsdelivr.net/npm//vega-lite@4.17.0?noext\",\n",
       "      \"vega-embed\": \"https://cdn.jsdelivr.net/npm//vega-embed@6?noext\",\n",
       "    };\n",
       "\n",
       "    function maybeLoadScript(lib, version) {\n",
       "      var key = `${lib.replace(\"-\", \"\")}_version`;\n",
       "      return (VEGA_DEBUG[key] == version) ?\n",
       "        Promise.resolve(paths[lib]) :\n",
       "        new Promise(function(resolve, reject) {\n",
       "          var s = document.createElement('script');\n",
       "          document.getElementsByTagName(\"head\")[0].appendChild(s);\n",
       "          s.async = true;\n",
       "          s.onload = () => {\n",
       "            VEGA_DEBUG[key] = version;\n",
       "            return resolve(paths[lib]);\n",
       "          };\n",
       "          s.onerror = () => reject(`Error loading script: ${paths[lib]}`);\n",
       "          s.src = paths[lib];\n",
       "        });\n",
       "    }\n",
       "\n",
       "    function showError(err) {\n",
       "      outputDiv.innerHTML = `<div class=\"error\" style=\"color:red;\">${err}</div>`;\n",
       "      throw err;\n",
       "    }\n",
       "\n",
       "    function displayChart(vegaEmbed) {\n",
       "      vegaEmbed(outputDiv, spec, embedOpt)\n",
       "        .catch(err => showError(`Javascript Error: ${err.message}<br>This usually means there's a typo in your chart specification. See the javascript console for the full traceback.`));\n",
       "    }\n",
       "\n",
       "    if(typeof define === \"function\" && define.amd) {\n",
       "      requirejs.config({paths});\n",
       "      require([\"vega-embed\"], displayChart, err => showError(`Error loading script: ${err.message}`));\n",
       "    } else {\n",
       "      maybeLoadScript(\"vega\", \"5\")\n",
       "        .then(() => maybeLoadScript(\"vega-lite\", \"4.17.0\"))\n",
       "        .then(() => maybeLoadScript(\"vega-embed\", \"6\"))\n",
       "        .catch(showError)\n",
       "        .then(() => displayChart(vegaEmbed));\n",
       "    }\n",
       "  })({\"config\": {\"view\": {\"continuousWidth\": 400, \"continuousHeight\": 300}}, \"layer\": [{\"mark\": \"arc\", \"encoding\": {\"color\": {\"field\": \"Bad Actor\", \"type\": \"nominal\"}, \"theta\": {\"field\": \"Count\", \"type\": \"quantitative\"}}, \"height\": 300, \"title\": \"Imbalanced Bad Actor Data\", \"width\": 300}, {\"mark\": {\"type\": \"text\", \"radius\": 140, \"size\": 12}, \"encoding\": {\"color\": {\"field\": \"Bad Actor\", \"type\": \"nominal\"}, \"text\": {\"field\": \"Percent\", \"format\": \".4%\", \"type\": \"quantitative\"}, \"theta\": {\"field\": \"Count\", \"type\": \"quantitative\"}}, \"height\": 300, \"title\": \"Imbalanced Bad Actor Data\", \"width\": 300}], \"data\": {\"name\": \"data-176020de0f36c3488363eaacea29cf27\"}, \"$schema\": \"https://vega.github.io/schema/vega-lite/v4.17.0.json\", \"datasets\": {\"data-176020de0f36c3488363eaacea29cf27\": [{\"Bad Actor\": false, \"Count\": 999955, \"Percent\": 0.999955}, {\"Bad Actor\": true, \"Count\": 45, \"Percent\": 4.5e-05}]}}, {\"mode\": \"vega-lite\"});\n",
       "</script>"
      ],
      "text/plain": [
       "alt.LayerChart(...)"
      ]
     },
     "execution_count": 33,
     "metadata": {},
     "output_type": "execute_result"
    }
   ],
   "source": [
    "# Create the chart\n",
    "chart = alt.Chart(bad_count).mark_arc().encode(\n",
    "    theta='Count:Q',\n",
    "    color='Bad Actor:N'\n",
    ").properties(\n",
    "    width=300,\n",
    "    height=300,\n",
    "    title='Imbalanced Bad Actor Data'\n",
    ")\n",
    "\n",
    "# Add labels to the chart\n",
    "labels = chart.mark_text(radius=140, size=12).encode(text=alt.Text('Percent:Q', format='.4%'))\n",
    "\n",
    "\n",
    "# Show the chart\n",
    "chart = chart + labels\n",
    "chart"
   ]
  },
  {
   "cell_type": "code",
   "execution_count": 51,
   "metadata": {},
   "outputs": [
    {
     "data": {
      "image/png": "[encoded data removed]",
      "text/plain": [
       "<Figure size 640x480 with 2 Axes>"
      ]
     },
     "metadata": {},
     "output_type": "display_data"
    }
   ],
   "source": [
    "# y_true: the true class labels\n",
    "# y_pred: the predicted class labels\n",
    "y_true = df.BAD_STATUS\n",
    "y_pred = (lr.predict_proba(X_all_norm)[:,1] >= 0.5).astype(bool) # can change threshold\n",
    "cm = confusion_matrix(y_true, y_pred)\n",
    "\n",
    "# Define class labels\n",
    "class_names = ['Normal', 'Bad']\n",
    "\n",
    "# Create a heatmap of the confusion matrix\n",
    "sns.heatmap(cm, annot=True, fmt='d', cmap='Blues', xticklabels=class_names, yticklabels=class_names)\n",
    "\n",
    "# Add labels to the plot\n",
    "plt.title('Confusion Matrix')\n",
    "plt.xlabel('Predicted Class')\n",
    "plt.ylabel('True Class')\n",
    "plt.show()"
   ]
  },
  {
   "cell_type": "code",
   "execution_count": null,
   "metadata": {},
   "outputs": [],
   "source": []
  }
 ],
 "metadata": {
  "kernelspec": {
   "display_name": "base",
   "language": "python",
   "name": "python3"
  },
  "language_info": {
   "codemirror_mode": {
    "name": "ipython",
    "version": 3
   },
   "file_extension": ".py",
   "mimetype": "text/x-python",
   "name": "python",
   "nbconvert_exporter": "python",
   "pygments_lexer": "ipython3",
   "version": "3.9.13"
  },
  "orig_nbformat": 4,
  "vscode": {
   "interpreter": {
    "hash": "80421f0354c4bb6b1019136ef6c619854380f034f851a9c6c429239b356a3c55"
   }
  }
 },
 "nbformat": 4,
 "nbformat_minor": 2
}
