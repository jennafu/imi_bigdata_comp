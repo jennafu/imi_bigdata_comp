{
 "cells": [
  {
   "attachments": {},
   "cell_type": "markdown",
   "metadata": {},
   "source": [
    "# Task 2B - Find Likelihood to be Bad Actor"
   ]
  },
  {
   "attachments": {},
   "cell_type": "markdown",
   "metadata": {},
   "source": [
    "## Library and Pre-process"
   ]
  },
  {
   "cell_type": "code",
   "execution_count": 1,
   "metadata": {},
   "outputs": [],
   "source": [
    "import pandas as pd\n",
    "import numpy as np\n",
    "from sklearn.preprocessing import StandardScaler\n",
    "from sklearn.linear_model import LogisticRegression\n",
    "from sklearn.model_selection import StratifiedKFold\n",
    "from sklearn.metrics import accuracy_score, precision_score, recall_score"
   ]
  },
  {
   "cell_type": "code",
   "execution_count": 2,
   "metadata": {},
   "outputs": [],
   "source": [
    "# Read main dataset\n",
    "df = pd.read_csv('UofT_nodes.csv')\n",
    "df_bad_list = pd.read_csv('badactor_foundin_kyc_bt_match.csv')"
   ]
  },
  {
   "cell_type": "code",
   "execution_count": 3,
   "metadata": {},
   "outputs": [],
   "source": [
    "# Change all to categorial\n",
    "df['COUNTRY_RISK_INCOME'] = df['COUNTRY_RISK_INCOME'].astype('category').cat.codes\n",
    "df['COUNTRY_RISK_RESIDENCY'] = df['COUNTRY_RISK_RESIDENCY'].astype('category').cat.codes\n",
    "df['GENDER'] = df['GENDER'].astype('category').cat.codes\n",
    "\n",
    "df['RISK'] = df['RISK'].replace(['low'], 0)\n",
    "df['RISK'] = df['RISK'].replace(['medium'], 1)\n",
    "df['RISK'] = df['RISK'].replace(['high'], 2)"
   ]
  },
  {
   "cell_type": "code",
   "execution_count": 4,
   "metadata": {},
   "outputs": [
    {
     "name": "stdout",
     "output_type": "stream",
     "text": [
      "<class 'pandas.core.frame.DataFrame'>\n",
      "RangeIndex: 1000000 entries, 0 to 999999\n",
      "Data columns (total 22 columns):\n",
      " #   Column                  Non-Null Count    Dtype         \n",
      "---  ------                  --------------    -----         \n",
      " 0   BIRTH_DT                1000000 non-null  datetime64[ns]\n",
      " 1   CUST_ADD_DT             1000000 non-null  datetime64[ns]\n",
      " 2   OCPTN_NM                1000000 non-null  float64       \n",
      " 3   RES_CNTRY_CA            1000000 non-null  int64         \n",
      " 4   CNTRY_OF_INCOME_CA      1000000 non-null  int64         \n",
      " 5   PEP_FL                  1000000 non-null  float64       \n",
      " 6   CASH_SUM_IN             1000000 non-null  float64       \n",
      " 7   CASH_CNT_IN             1000000 non-null  float64       \n",
      " 8   CASH_SUM_OUT            1000000 non-null  float64       \n",
      " 9   CASH_CNT_OUT            1000000 non-null  float64       \n",
      " 10  WIRES_SUM_IN            1000000 non-null  float64       \n",
      " 11  WIRES_CNT_IN            1000000 non-null  float64       \n",
      " 12  WIRES_SUM_OUT           1000000 non-null  float64       \n",
      " 13  WIRES_CNT_OUT           1000000 non-null  float64       \n",
      " 14  COUNTRY_RISK_INCOME     1000000 non-null  int8          \n",
      " 15  COUNTRY_RISK_RESIDENCY  1000000 non-null  int8          \n",
      " 16  RISK                    1000000 non-null  int64         \n",
      " 17  NAME                    999340 non-null   object        \n",
      " 18  GENDER                  1000000 non-null  int8          \n",
      " 19  CUSTOMER_ID             1000000 non-null  int32         \n",
      " 20  BIRTH_TS                1000000 non-null  float64       \n",
      " 21  CUST_ADD_TS             1000000 non-null  float64       \n",
      "dtypes: datetime64[ns](2), float64(12), int32(1), int64(3), int8(3), object(1)\n",
      "memory usage: 144.0+ MB\n"
     ]
    }
   ],
   "source": [
    "# Convert Key(Customer ID) to int for join\n",
    "df.CUSTOMER_ID = df.CUSTOMER_ID.astype(float).astype(int)\n",
    "df_bad_list.CUSTOMER_ID = df_bad_list.CUSTOMER_ID.astype(float).astype(int)\n",
    "\n",
    "# Change all date to date format\n",
    "df.BIRTH_DT = pd.to_datetime(df.BIRTH_DT)\n",
    "df.CUST_ADD_DT = pd.to_datetime(df.CUST_ADD_DT)\n",
    "\n",
    "# Fill NaN with value different from the other\n",
    "df.CUST_ADD_DT.fillna(pd.Timestamp('1800-01-01'), inplace=True)\n",
    "df.OCPTN_NM.fillna(-1, inplace=True)\n",
    "\n",
    "# Convert all dates to Unix timestamps for modeling\n",
    "df['BIRTH_TS'] = df['BIRTH_DT'].apply(lambda x: x.timestamp())\n",
    "df['CUST_ADD_TS'] = df['CUST_ADD_DT'].apply(lambda x: x.timestamp())\n",
    "df.info()"
   ]
  },
  {
   "cell_type": "code",
   "execution_count": 5,
   "metadata": {},
   "outputs": [
    {
     "name": "stdout",
     "output_type": "stream",
     "text": [
      "<class 'pandas.core.frame.DataFrame'>\n",
      "RangeIndex: 45 entries, 0 to 44\n",
      "Data columns (total 21 columns):\n",
      " #   Column                  Non-Null Count  Dtype  \n",
      "---  ------                  --------------  -----  \n",
      " 0   Unnamed: 0              45 non-null     int64  \n",
      " 1   BIRTH_DT                45 non-null     object \n",
      " 2   CUST_ADD_DT             45 non-null     object \n",
      " 3   OCPTN_NM                45 non-null     float64\n",
      " 4   RES_CNTRY_CA            45 non-null     int64  \n",
      " 5   CNTRY_OF_INCOME_CA      45 non-null     int64  \n",
      " 6   PEP_FL                  45 non-null     float64\n",
      " 7   CASH_SUM_IN             45 non-null     float64\n",
      " 8   CASH_CNT_IN             45 non-null     float64\n",
      " 9   CASH_SUM_OUT            45 non-null     float64\n",
      " 10  CASH_CNT_OUT            45 non-null     float64\n",
      " 11  WIRES_SUM_IN            45 non-null     float64\n",
      " 12  WIRES_CNT_IN            45 non-null     float64\n",
      " 13  WIRES_SUM_OUT           45 non-null     float64\n",
      " 14  WIRES_CNT_OUT           45 non-null     float64\n",
      " 15  COUNTRY_RISK_INCOME     45 non-null     object \n",
      " 16  COUNTRY_RISK_RESIDENCY  45 non-null     object \n",
      " 17  RISK                    45 non-null     object \n",
      " 18  NAME                    45 non-null     object \n",
      " 19  GENDER                  45 non-null     object \n",
      " 20  CUSTOMER_ID             45 non-null     int32  \n",
      "dtypes: float64(10), int32(1), int64(3), object(7)\n",
      "memory usage: 7.3+ KB\n"
     ]
    }
   ],
   "source": [
    "df_bad_list.CUSTOMER_ID = df_bad_list.CUSTOMER_ID.astype(float).astype(int)\n",
    "df_bad_list.info()"
   ]
  },
  {
   "cell_type": "code",
   "execution_count": 6,
   "metadata": {},
   "outputs": [
    {
     "data": {
      "text/html": [
       "<div>\n",
       "<style scoped>\n",
       "    .dataframe tbody tr th:only-of-type {\n",
       "        vertical-align: middle;\n",
       "    }\n",
       "\n",
       "    .dataframe tbody tr th {\n",
       "        vertical-align: top;\n",
       "    }\n",
       "\n",
       "    .dataframe thead th {\n",
       "        text-align: right;\n",
       "    }\n",
       "</style>\n",
       "<table border=\"1\" class=\"dataframe\">\n",
       "  <thead>\n",
       "    <tr style=\"text-align: right;\">\n",
       "      <th></th>\n",
       "      <th>BIRTH_DT</th>\n",
       "      <th>CUST_ADD_DT</th>\n",
       "      <th>OCPTN_NM</th>\n",
       "      <th>RES_CNTRY_CA</th>\n",
       "      <th>CNTRY_OF_INCOME_CA</th>\n",
       "      <th>PEP_FL</th>\n",
       "      <th>CASH_SUM_IN</th>\n",
       "      <th>CASH_CNT_IN</th>\n",
       "      <th>CASH_SUM_OUT</th>\n",
       "      <th>CASH_CNT_OUT</th>\n",
       "      <th>...</th>\n",
       "      <th>WIRES_CNT_OUT</th>\n",
       "      <th>COUNTRY_RISK_INCOME</th>\n",
       "      <th>COUNTRY_RISK_RESIDENCY</th>\n",
       "      <th>RISK</th>\n",
       "      <th>NAME</th>\n",
       "      <th>GENDER</th>\n",
       "      <th>CUSTOMER_ID</th>\n",
       "      <th>BIRTH_TS</th>\n",
       "      <th>CUST_ADD_TS</th>\n",
       "      <th>BAD_STATUS</th>\n",
       "    </tr>\n",
       "  </thead>\n",
       "  <tbody>\n",
       "    <tr>\n",
       "      <th>0</th>\n",
       "      <td>1981-09-01</td>\n",
       "      <td>2007-07-05</td>\n",
       "      <td>89.0</td>\n",
       "      <td>1</td>\n",
       "      <td>1</td>\n",
       "      <td>0.0</td>\n",
       "      <td>2577.785</td>\n",
       "      <td>2.0</td>\n",
       "      <td>2851.663</td>\n",
       "      <td>7.0</td>\n",
       "      <td>...</td>\n",
       "      <td>35.0</td>\n",
       "      <td>1</td>\n",
       "      <td>1</td>\n",
       "      <td>0</td>\n",
       "      <td>Young, Marie Mildren Coleman</td>\n",
       "      <td>0</td>\n",
       "      <td>935382</td>\n",
       "      <td>368150400.0</td>\n",
       "      <td>1.183594e+09</td>\n",
       "      <td>False</td>\n",
       "    </tr>\n",
       "    <tr>\n",
       "      <th>1</th>\n",
       "      <td>1994-02-21</td>\n",
       "      <td>2019-05-19</td>\n",
       "      <td>89.0</td>\n",
       "      <td>1</td>\n",
       "      <td>1</td>\n",
       "      <td>0.0</td>\n",
       "      <td>3035.502</td>\n",
       "      <td>2.0</td>\n",
       "      <td>4805.997</td>\n",
       "      <td>15.0</td>\n",
       "      <td>...</td>\n",
       "      <td>152.0</td>\n",
       "      <td>1</td>\n",
       "      <td>1</td>\n",
       "      <td>0</td>\n",
       "      <td>Mark Stupar Lecy</td>\n",
       "      <td>1</td>\n",
       "      <td>2305</td>\n",
       "      <td>761788800.0</td>\n",
       "      <td>1.558224e+09</td>\n",
       "      <td>False</td>\n",
       "    </tr>\n",
       "    <tr>\n",
       "      <th>2</th>\n",
       "      <td>1962-11-16</td>\n",
       "      <td>2011-08-02</td>\n",
       "      <td>89.0</td>\n",
       "      <td>1</td>\n",
       "      <td>1</td>\n",
       "      <td>0.0</td>\n",
       "      <td>1617.571</td>\n",
       "      <td>1.0</td>\n",
       "      <td>3482.809</td>\n",
       "      <td>11.0</td>\n",
       "      <td>...</td>\n",
       "      <td>20.0</td>\n",
       "      <td>1</td>\n",
       "      <td>1</td>\n",
       "      <td>0</td>\n",
       "      <td>Dean Glasper Wendel Reeves</td>\n",
       "      <td>1</td>\n",
       "      <td>472403</td>\n",
       "      <td>-224899200.0</td>\n",
       "      <td>1.312243e+09</td>\n",
       "      <td>False</td>\n",
       "    </tr>\n",
       "    <tr>\n",
       "      <th>3</th>\n",
       "      <td>1998-06-20</td>\n",
       "      <td>2001-08-15</td>\n",
       "      <td>89.0</td>\n",
       "      <td>1</td>\n",
       "      <td>1</td>\n",
       "      <td>0.0</td>\n",
       "      <td>3587.042</td>\n",
       "      <td>5.0</td>\n",
       "      <td>1940.943</td>\n",
       "      <td>8.0</td>\n",
       "      <td>...</td>\n",
       "      <td>238.0</td>\n",
       "      <td>1</td>\n",
       "      <td>1</td>\n",
       "      <td>0</td>\n",
       "      <td>Hulsey, Linda Rauth</td>\n",
       "      <td>0</td>\n",
       "      <td>227994</td>\n",
       "      <td>898300800.0</td>\n",
       "      <td>9.978336e+08</td>\n",
       "      <td>False</td>\n",
       "    </tr>\n",
       "    <tr>\n",
       "      <th>4</th>\n",
       "      <td>1942-01-24</td>\n",
       "      <td>2012-10-28</td>\n",
       "      <td>89.0</td>\n",
       "      <td>1</td>\n",
       "      <td>1</td>\n",
       "      <td>0.0</td>\n",
       "      <td>1725.524</td>\n",
       "      <td>2.0</td>\n",
       "      <td>13197.169</td>\n",
       "      <td>43.0</td>\n",
       "      <td>...</td>\n",
       "      <td>180.0</td>\n",
       "      <td>1</td>\n",
       "      <td>1</td>\n",
       "      <td>0</td>\n",
       "      <td>Carolyn Washington Roberts</td>\n",
       "      <td>0</td>\n",
       "      <td>418265</td>\n",
       "      <td>-881625600.0</td>\n",
       "      <td>1.351382e+09</td>\n",
       "      <td>False</td>\n",
       "    </tr>\n",
       "  </tbody>\n",
       "</table>\n",
       "<p>5 rows × 23 columns</p>\n",
       "</div>"
      ],
      "text/plain": [
       "    BIRTH_DT CUST_ADD_DT  OCPTN_NM  RES_CNTRY_CA  CNTRY_OF_INCOME_CA  PEP_FL  \\\n",
       "0 1981-09-01  2007-07-05      89.0             1                   1     0.0   \n",
       "1 1994-02-21  2019-05-19      89.0             1                   1     0.0   \n",
       "2 1962-11-16  2011-08-02      89.0             1                   1     0.0   \n",
       "3 1998-06-20  2001-08-15      89.0             1                   1     0.0   \n",
       "4 1942-01-24  2012-10-28      89.0             1                   1     0.0   \n",
       "\n",
       "   CASH_SUM_IN  CASH_CNT_IN  CASH_SUM_OUT  CASH_CNT_OUT  ...  WIRES_CNT_OUT  \\\n",
       "0     2577.785          2.0      2851.663           7.0  ...           35.0   \n",
       "1     3035.502          2.0      4805.997          15.0  ...          152.0   \n",
       "2     1617.571          1.0      3482.809          11.0  ...           20.0   \n",
       "3     3587.042          5.0      1940.943           8.0  ...          238.0   \n",
       "4     1725.524          2.0     13197.169          43.0  ...          180.0   \n",
       "\n",
       "   COUNTRY_RISK_INCOME  COUNTRY_RISK_RESIDENCY  RISK  \\\n",
       "0                    1                       1     0   \n",
       "1                    1                       1     0   \n",
       "2                    1                       1     0   \n",
       "3                    1                       1     0   \n",
       "4                    1                       1     0   \n",
       "\n",
       "                           NAME  GENDER  CUSTOMER_ID     BIRTH_TS  \\\n",
       "0  Young, Marie Mildren Coleman       0       935382  368150400.0   \n",
       "1              Mark Stupar Lecy       1         2305  761788800.0   \n",
       "2    Dean Glasper Wendel Reeves       1       472403 -224899200.0   \n",
       "3           Hulsey, Linda Rauth       0       227994  898300800.0   \n",
       "4    Carolyn Washington Roberts       0       418265 -881625600.0   \n",
       "\n",
       "    CUST_ADD_TS  BAD_STATUS  \n",
       "0  1.183594e+09       False  \n",
       "1  1.558224e+09       False  \n",
       "2  1.312243e+09       False  \n",
       "3  9.978336e+08       False  \n",
       "4  1.351382e+09       False  \n",
       "\n",
       "[5 rows x 23 columns]"
      ]
     },
     "execution_count": 6,
     "metadata": {},
     "output_type": "execute_result"
    }
   ],
   "source": [
    "# Create bad actor label\n",
    "df_bad_list['BAD_STATUS'] = [True]*df_bad_list.shape[0] # Create True labels for real bad actors \n",
    "df = df.merge(df_bad_list[['BAD_STATUS', 'CUSTOMER_ID']], on='CUSTOMER_ID', how='left') # Join\n",
    "df.BAD_STATUS.fillna(False, inplace=True) # Fill the rest with False labels\n",
    "df.head()"
   ]
  },
  {
   "cell_type": "code",
   "execution_count": 7,
   "metadata": {},
   "outputs": [
    {
     "data": {
      "text/plain": [
       "True"
      ]
     },
     "execution_count": 7,
     "metadata": {},
     "output_type": "execute_result"
    }
   ],
   "source": [
    "# Check whether merged correctly\n",
    "set(df_bad_list.CUSTOMER_ID) == set(df[df.BAD_STATUS].CUSTOMER_ID)"
   ]
  },
  {
   "cell_type": "markdown",
   "metadata": {},
   "source": [
    "## Variable Selection"
   ]
  },
  {
   "cell_type": "code",
   "execution_count": 8,
   "metadata": {},
   "outputs": [],
   "source": [
    "# Set variable will be used for training\n",
    "column_feature = df.columns[2:16].to_list() + df.columns[20:22].to_list()"
   ]
  },
  {
   "cell_type": "code",
   "execution_count": 9,
   "metadata": {},
   "outputs": [
    {
     "data": {
      "text/plain": [
       "OCPTN_NM                  float64\n",
       "RES_CNTRY_CA                int64\n",
       "CNTRY_OF_INCOME_CA          int64\n",
       "PEP_FL                    float64\n",
       "CASH_SUM_IN               float64\n",
       "CASH_CNT_IN               float64\n",
       "CASH_SUM_OUT              float64\n",
       "CASH_CNT_OUT              float64\n",
       "WIRES_SUM_IN              float64\n",
       "WIRES_CNT_IN              float64\n",
       "WIRES_SUM_OUT             float64\n",
       "WIRES_CNT_OUT             float64\n",
       "COUNTRY_RISK_INCOME          int8\n",
       "COUNTRY_RISK_RESIDENCY       int8\n",
       "BIRTH_TS                  float64\n",
       "CUST_ADD_TS               float64\n",
       "dtype: object"
      ]
     },
     "execution_count": 9,
     "metadata": {},
     "output_type": "execute_result"
    }
   ],
   "source": [
    "df[column_feature].dtypes"
   ]
  },
  {
   "cell_type": "code",
   "execution_count": 10,
   "metadata": {},
   "outputs": [],
   "source": [
    "# Split\n",
    "X = df[column_feature]\n",
    "y = df.BAD_STATUS\n",
    "\n",
    "# Calculate the correlation between each feature and the target variable\n",
    "corr = X.corrwith(y)\n",
    "\n",
    "# Get the selected feature names\n",
    "k = 10\n",
    "indices = corr.abs().sort_values(ascending=False)[:k].index\n",
    "selected_features = X[indices].columns.tolist()"
   ]
  },
  {
   "cell_type": "code",
   "execution_count": 11,
   "metadata": {},
   "outputs": [
    {
     "data": {
      "text/plain": [
       "['COUNTRY_RISK_INCOME',\n",
       " 'CNTRY_OF_INCOME_CA',\n",
       " 'RES_CNTRY_CA',\n",
       " 'CASH_SUM_IN',\n",
       " 'COUNTRY_RISK_RESIDENCY',\n",
       " 'CASH_CNT_IN',\n",
       " 'WIRES_CNT_OUT',\n",
       " 'CASH_CNT_OUT',\n",
       " 'CASH_SUM_OUT',\n",
       " 'WIRES_SUM_OUT']"
      ]
     },
     "execution_count": 11,
     "metadata": {},
     "output_type": "execute_result"
    }
   ],
   "source": [
    "selected_features"
   ]
  },
  {
   "attachments": {},
   "cell_type": "markdown",
   "metadata": {},
   "source": [
    "## Modelling with Logistic Regression"
   ]
  },
  {
   "cell_type": "code",
   "execution_count": 12,
   "metadata": {},
   "outputs": [
    {
     "name": "stdout",
     "output_type": "stream",
     "text": [
      "Average accuracy: 0.9567309999999999\n",
      "Average precision: 0.9999101076987091\n",
      "Average recall: 0.9567309999999999\n"
     ]
    }
   ],
   "source": [
    "# Remove feature names\n",
    "X = X[selected_features].values\n",
    "\n",
    "# Create a StratifiedKFold object with 5 folds (Avoid imbalanced issue)\n",
    "skf = StratifiedKFold(n_splits=10, shuffle=True, random_state=7)\n",
    "scaler = StandardScaler()\n",
    "\n",
    "# Initialize an empty list to store the accuracy scores\n",
    "acc_scores = []\n",
    "prec_scores = []\n",
    "rec_scores = []\n",
    "\n",
    "for train_index, test_index in skf.split(X, y):\n",
    "    # split the data into training and testing sets\n",
    "    X_train, X_test = X[train_index], X[test_index]\n",
    "    y_train, y_test = y[train_index], y[test_index]\n",
    "    \n",
    "    # normalize the training and testing data using the scaler\n",
    "    X_train_norm = scaler.fit_transform(X_train)\n",
    "    X_test_norm = scaler.transform(X_test)\n",
    "    \n",
    "    # initialize a LogisticRegression classifier\n",
    "    lr = LogisticRegression(class_weight='balanced', random_state=7)\n",
    "    \n",
    "    # train the classifier on the normalized training data\n",
    "    lr.fit(X_train_norm, y_train)\n",
    "    \n",
    "    # evaluate the classifier on the normalized testing data\n",
    "    y_pred = lr.predict(X_test)\n",
    "    accuracy = accuracy_score(y_test, y_pred)\n",
    "    precison = precision_score(y_test, y_pred, average='weighted')\n",
    "    recall = recall_score(y_test, y_pred, average='weighted')\n",
    "\n",
    "    acc_scores.append(accuracy)\n",
    "    prec_scores.append(precison)\n",
    "    rec_scores.append(recall)\n",
    "\n",
    "print('Average accuracy:', np.mean(acc_scores))\n",
    "print('Average precision:', np.mean(prec_scores))\n",
    "print('Average recall:', np.mean(rec_scores))"
   ]
  },
  {
   "cell_type": "code",
   "execution_count": 13,
   "metadata": {},
   "outputs": [],
   "source": [
    "# Get the whole X back\n",
    "X_all_norm = scaler.transform(df[selected_features].values)\n",
    "bad_score = lr.predict_proba(X_all_norm) # This is the final likelihood to be a bad actor"
   ]
  },
  {
   "cell_type": "code",
   "execution_count": 14,
   "metadata": {},
   "outputs": [
    {
     "data": {
      "text/plain": [
       "array([[0.69436671, 0.30563329],\n",
       "       [0.62090629, 0.37909371],\n",
       "       [0.68111191, 0.31888809],\n",
       "       ...,\n",
       "       [0.41975386, 0.58024614],\n",
       "       [0.2782785 , 0.7217215 ],\n",
       "       [0.00386269, 0.99613731]])"
      ]
     },
     "execution_count": 14,
     "metadata": {},
     "output_type": "execute_result"
    }
   ],
   "source": [
    "bad_score"
   ]
  },
  {
   "cell_type": "code",
   "execution_count": null,
   "metadata": {},
   "outputs": [],
   "source": []
  }
 ],
 "metadata": {
  "kernelspec": {
   "display_name": "base",
   "language": "python",
   "name": "python3"
  },
  "language_info": {
   "codemirror_mode": {
    "name": "ipython",
    "version": 3
   },
   "file_extension": ".py",
   "mimetype": "text/x-python",
   "name": "python",
   "nbconvert_exporter": "python",
   "pygments_lexer": "ipython3",
   "version": "3.9.13"
  },
  "orig_nbformat": 4,
  "vscode": {
   "interpreter": {
    "hash": "80421f0354c4bb6b1019136ef6c619854380f034f851a9c6c429239b356a3c55"
   }
  }
 },
 "nbformat": 4,
 "nbformat_minor": 2
}
